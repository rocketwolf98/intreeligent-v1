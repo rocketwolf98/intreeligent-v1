{
 "cells": [
  {
   "cell_type": "code",
   "execution_count": 3,
   "id": "053c0cf9-5c03-4562-baad-7f7eb8c47c1d",
   "metadata": {
    "execution": {
     "iopub.execute_input": "2025-09-26T13:48:09.021029Z",
     "iopub.status.busy": "2025-09-26T13:48:09.020775Z",
     "iopub.status.idle": "2025-09-26T13:48:09.049965Z",
     "shell.execute_reply": "2025-09-26T13:48:09.049275Z",
     "shell.execute_reply.started": "2025-09-26T13:48:09.021008Z"
    }
   },
   "outputs": [
    {
     "ename": "FileNotFoundError",
     "evalue": "[Errno 2] No such file or directory: './Some-Trees-Dataset-10/train/_annotations.coco.json'",
     "output_type": "error",
     "traceback": [
      "\u001b[0;31m---------------------------------------------------------------------------\u001b[0m",
      "\u001b[0;31mFileNotFoundError\u001b[0m                         Traceback (most recent call last)",
      "Cell \u001b[0;32mIn[3], line 37\u001b[0m\n\u001b[1;32m     34\u001b[0m     \u001b[38;5;28mprint\u001b[39m(\u001b[38;5;124mf\u001b[39m\u001b[38;5;124m\"\u001b[39m\u001b[38;5;124m✅ Fixed JSON written to \u001b[39m\u001b[38;5;132;01m{\u001b[39;00mout_path\u001b[38;5;132;01m}\u001b[39;00m\u001b[38;5;124m\"\u001b[39m)\n\u001b[1;32m     36\u001b[0m \u001b[38;5;66;03m# Example usage:\u001b[39;00m\n\u001b[0;32m---> 37\u001b[0m \u001b[43mfix_coco_json\u001b[49m\u001b[43m(\u001b[49m\n\u001b[1;32m     38\u001b[0m \u001b[43m    \u001b[49m\u001b[38;5;124;43m\"\u001b[39;49m\u001b[38;5;124;43m./Some-Trees-Dataset-10/train/_annotations.coco.json\u001b[39;49m\u001b[38;5;124;43m\"\u001b[39;49m\u001b[43m,\u001b[49m\n\u001b[1;32m     39\u001b[0m \u001b[43m    \u001b[49m\u001b[38;5;124;43m\"\u001b[39;49m\u001b[38;5;124;43m./Some-Trees-Dataset-10/train/_annotations_fixed.coco.json\u001b[39;49m\u001b[38;5;124;43m\"\u001b[39;49m\n\u001b[1;32m     40\u001b[0m \u001b[43m)\u001b[49m\n\u001b[1;32m     42\u001b[0m fix_coco_json(\n\u001b[1;32m     43\u001b[0m     \u001b[38;5;124m\"\u001b[39m\u001b[38;5;124m./Some-Trees-Dataset-10/valid/_annotations.coco.json\u001b[39m\u001b[38;5;124m\"\u001b[39m,\n\u001b[1;32m     44\u001b[0m     \u001b[38;5;124m\"\u001b[39m\u001b[38;5;124m./Some-Trees-Dataset-10/valid/_annotations_fixed.coco.json\u001b[39m\u001b[38;5;124m\"\u001b[39m\n\u001b[1;32m     45\u001b[0m )\n\u001b[1;32m     47\u001b[0m fix_coco_json(\n\u001b[1;32m     48\u001b[0m     \u001b[38;5;124m\"\u001b[39m\u001b[38;5;124m./Some-Trees-Dataset-10/test/_annotations.coco.json\u001b[39m\u001b[38;5;124m\"\u001b[39m,\n\u001b[1;32m     49\u001b[0m     \u001b[38;5;124m\"\u001b[39m\u001b[38;5;124m./Some-Trees-Dataset-10/test/_annotations_fixed.coco.json\u001b[39m\u001b[38;5;124m\"\u001b[39m\n\u001b[1;32m     50\u001b[0m )\n",
      "Cell \u001b[0;32mIn[3], line 4\u001b[0m, in \u001b[0;36mfix_coco_json\u001b[0;34m(in_path, out_path)\u001b[0m\n\u001b[1;32m      3\u001b[0m \u001b[38;5;28;01mdef\u001b[39;00m\u001b[38;5;250m \u001b[39m\u001b[38;5;21mfix_coco_json\u001b[39m(in_path, out_path):\n\u001b[0;32m----> 4\u001b[0m     \u001b[38;5;28;01mwith\u001b[39;00m \u001b[38;5;28;43mopen\u001b[39;49m\u001b[43m(\u001b[49m\u001b[43min_path\u001b[49m\u001b[43m,\u001b[49m\u001b[43m \u001b[49m\u001b[38;5;124;43m\"\u001b[39;49m\u001b[38;5;124;43mr\u001b[39;49m\u001b[38;5;124;43m\"\u001b[39;49m\u001b[43m)\u001b[49m \u001b[38;5;28;01mas\u001b[39;00m f:\n\u001b[1;32m      5\u001b[0m         data \u001b[38;5;241m=\u001b[39m json\u001b[38;5;241m.\u001b[39mload(f)\n\u001b[1;32m      7\u001b[0m     \u001b[38;5;66;03m# keep only \"tree\" category\u001b[39;00m\n",
      "File \u001b[0;32m/opt/conda/lib/python3.12/site-packages/IPython/core/interactiveshell.py:324\u001b[0m, in \u001b[0;36m_modified_open\u001b[0;34m(file, *args, **kwargs)\u001b[0m\n\u001b[1;32m    317\u001b[0m \u001b[38;5;28;01mif\u001b[39;00m file \u001b[38;5;129;01min\u001b[39;00m {\u001b[38;5;241m0\u001b[39m, \u001b[38;5;241m1\u001b[39m, \u001b[38;5;241m2\u001b[39m}:\n\u001b[1;32m    318\u001b[0m     \u001b[38;5;28;01mraise\u001b[39;00m \u001b[38;5;167;01mValueError\u001b[39;00m(\n\u001b[1;32m    319\u001b[0m         \u001b[38;5;124mf\u001b[39m\u001b[38;5;124m\"\u001b[39m\u001b[38;5;124mIPython won\u001b[39m\u001b[38;5;124m'\u001b[39m\u001b[38;5;124mt let you open fd=\u001b[39m\u001b[38;5;132;01m{\u001b[39;00mfile\u001b[38;5;132;01m}\u001b[39;00m\u001b[38;5;124m by default \u001b[39m\u001b[38;5;124m\"\u001b[39m\n\u001b[1;32m    320\u001b[0m         \u001b[38;5;124m\"\u001b[39m\u001b[38;5;124mas it is likely to crash IPython. If you know what you are doing, \u001b[39m\u001b[38;5;124m\"\u001b[39m\n\u001b[1;32m    321\u001b[0m         \u001b[38;5;124m\"\u001b[39m\u001b[38;5;124myou can use builtins\u001b[39m\u001b[38;5;124m'\u001b[39m\u001b[38;5;124m open.\u001b[39m\u001b[38;5;124m\"\u001b[39m\n\u001b[1;32m    322\u001b[0m     )\n\u001b[0;32m--> 324\u001b[0m \u001b[38;5;28;01mreturn\u001b[39;00m \u001b[43mio_open\u001b[49m\u001b[43m(\u001b[49m\u001b[43mfile\u001b[49m\u001b[43m,\u001b[49m\u001b[43m \u001b[49m\u001b[38;5;241;43m*\u001b[39;49m\u001b[43margs\u001b[49m\u001b[43m,\u001b[49m\u001b[43m \u001b[49m\u001b[38;5;241;43m*\u001b[39;49m\u001b[38;5;241;43m*\u001b[39;49m\u001b[43mkwargs\u001b[49m\u001b[43m)\u001b[49m\n",
      "\u001b[0;31mFileNotFoundError\u001b[0m: [Errno 2] No such file or directory: './Some-Trees-Dataset-10/train/_annotations.coco.json'"
     ]
    }
   ],
   "source": [
    "import json\n",
    "\n",
    "def fix_coco_json(in_path, out_path):\n",
    "    with open(in_path, \"r\") as f:\n",
    "        data = json.load(f)\n",
    "\n",
    "    # keep only \"tree\" category\n",
    "    new_categories = [{\"id\": 0, \"name\": \"tree\", \"supercategory\": \"none\"}]\n",
    "\n",
    "    # build mapping old_id -> new_id\n",
    "    tree_ids = [c[\"id\"] for c in data[\"categories\"] if c[\"name\"] == \"tree\"]\n",
    "    if not tree_ids:\n",
    "        raise ValueError(\"No 'tree' category found in categories.\")\n",
    "    tree_old_id = tree_ids[0]\n",
    "    id_map = {tree_old_id: 0}\n",
    "\n",
    "    # filter annotations to only keep \"tree\"\n",
    "    new_annotations = []\n",
    "    for ann in data[\"annotations\"]:\n",
    "        if ann[\"category_id\"] == tree_old_id:\n",
    "            ann[\"category_id\"] = 0  # remap to new id\n",
    "            new_annotations.append(ann)\n",
    "\n",
    "    # keep images as is\n",
    "    new_data = {\n",
    "        \"images\": data[\"images\"],\n",
    "        \"annotations\": new_annotations,\n",
    "        \"categories\": new_categories\n",
    "    }\n",
    "\n",
    "    with open(out_path, \"w\") as f:\n",
    "        json.dump(new_data, f, indent=2)\n",
    "\n",
    "    print(f\"✅ Fixed JSON written to {out_path}\")\n",
    "\n",
    "# Example usage:\n",
    "fix_coco_json(\n",
    "    \"./Some-Trees-Dataset-10/train/_annotations.coco.json\",\n",
    "    \"./Some-Trees-Dataset-10/train/_annotations_fixed.coco.json\"\n",
    ")\n",
    "\n",
    "fix_coco_json(\n",
    "    \"./Some-Trees-Dataset-10/valid/_annotations.coco.json\",\n",
    "    \"./Some-Trees-Dataset-10/valid/_annotations_fixed.coco.json\"\n",
    ")\n",
    "\n",
    "fix_coco_json(\n",
    "    \"./Some-Trees-Dataset-10/test/_annotations.coco.json\",\n",
    "    \"./Some-Trees-Dataset-10/test/_annotations_fixed.coco.json\"\n",
    ")"
   ]
  },
  {
   "cell_type": "code",
   "execution_count": null,
   "id": "4b8df9f2-9f29-4a1c-adda-af06e66abe82",
   "metadata": {},
   "outputs": [],
   "source": []
  }
 ],
 "metadata": {
  "kernelspec": {
   "display_name": "Python 3 (ipykernel)",
   "language": "python",
   "name": "python3"
  },
  "language_info": {
   "codemirror_mode": {
    "name": "ipython",
    "version": 3
   },
   "file_extension": ".py",
   "mimetype": "text/x-python",
   "name": "python",
   "nbconvert_exporter": "python",
   "pygments_lexer": "ipython3",
   "version": "3.12.9"
  }
 },
 "nbformat": 4,
 "nbformat_minor": 5
}
