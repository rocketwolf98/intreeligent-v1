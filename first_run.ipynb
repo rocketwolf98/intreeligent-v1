{
 "cells": [
  {
   "cell_type": "code",
   "execution_count": 2,
   "id": "aa424e3b",
   "metadata": {},
   "outputs": [],
   "source": [
    "#import packages\n",
    "import modal\n",
    "import os\n",
    "import xml.etree.ElementTree as ET\n",
    "import cv2\n",
    "import numpy as np\n",
    "from PIL import Image\n",
    "# import torch\n",
    "# from torch.utils.data import Dataset, DataLoader\n",
    "# import torchvision.transforms as transforms\n",
    "# import torch.nn as nn\n",
    "# import segmentation_models_pytorch as smp\n",
    "# from sklearn.cluster import DBSCAN\n",
    "from sklearn.preprocessing import StandardScaler\n",
    "import matplotlib.pyplot as plt\n",
    "from tqdm import tqdm"
   ]
  },
  {
   "cell_type": "code",
   "execution_count": 3,
   "id": "0ae49524",
   "metadata": {},
   "outputs": [],
   "source": [
    "# Set up Modal App for intreeligent\n",
    "app = modal.App(\"intreeligent-v1\")"
   ]
  },
  {
   "cell_type": "code",
   "execution_count": 4,
   "id": "a7d59c37",
   "metadata": {},
   "outputs": [],
   "source": [
    "# Set up Modal image\n",
    "image = (\n",
    "    modal.Image.debian_slim(python_version=\"3.13.7\")\n",
    "    .pip_install_from_requirements(\"requirements.txt\")\n",
    "    .apt_install(\"libgl1-mesa-glx\" \"libglib2.0-0\")  # for cv2\n",
    ")"
   ]
  },
  {
   "cell_type": "code",
   "execution_count": 5,
   "id": "483b3312",
   "metadata": {},
   "outputs": [],
   "source": [
    "# Create volume for data\n",
    "volume = modal.Volume.from_name(\"treesdataset\")\n"
   ]
  },
  {
   "cell_type": "code",
   "execution_count": 6,
   "id": "6c5a7d5a",
   "metadata": {},
   "outputs": [],
   "source": [
    "# Converting XML annotations to masks\n",
    "def xml_to_mask(xml_path, img_shape):\n",
    "    tree = ET.parse(xml_path)\n",
    "    root = tree.getroot()\n",
    "    mask = np.zeros(img_shape[:2], dtype=np.uint8)\n",
    "\n",
    "    for obj in root.findall('.//object'):\n",
    "        tree_element = obj.find('tree')\n",
    "        if tree_element is not None:\n",
    "            bbox = obj.find('bndbox')\n",
    "            if bbox is not None:\n",
    "                xmin = int(bbox.find('xmin').text)\n",
    "                ymin = int(bbox.find('ymin').text)\n",
    "                xmax = int(bbox.find('xmax').text)\n",
    "                ymax = int(bbox.find('ymax').text)\n",
    "                \n",
    "                center_x = (xmin + xmax) // 2\n",
    "                center_y = (ymin + ymax) // 2\n",
    "                width = (xmax - xmin) // 2\n",
    "                height = (ymax - ymin) // 2\n",
    "\n",
    "                cv2.ellipse(mask, (center_x, center_y), (width, height), 0, 0, 360, 1, -1)\n",
    "\n",
    "    return mask"
   ]
  },
  {
   "cell_type": "code",
   "execution_count": null,
   "id": "5b2b287d",
   "metadata": {},
   "outputs": [],
   "source": [
    "class TreeDataset(Dataset):\n",
    "    def __init__(self, image_dir, xml_dir, transform=None):\n",
    "        self.image_dir = image_dir\n",
    "        "
   ]
  }
 ],
 "metadata": {
  "kernelspec": {
   "display_name": ".venv",
   "language": "python",
   "name": "python3"
  },
  "language_info": {
   "codemirror_mode": {
    "name": "ipython",
    "version": 3
   },
   "file_extension": ".py",
   "mimetype": "text/x-python",
   "name": "python",
   "nbconvert_exporter": "python",
   "pygments_lexer": "ipython3",
   "version": "3.13.7"
  }
 },
 "nbformat": 4,
 "nbformat_minor": 5
}
