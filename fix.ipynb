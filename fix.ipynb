{
 "cells": [
  {
   "cell_type": "code",
   "execution_count": 2,
   "id": "053c0cf9-5c03-4562-baad-7f7eb8c47c1d",
   "metadata": {
    "execution": {
     "iopub.execute_input": "2025-09-26T13:50:31.918679Z",
     "iopub.status.busy": "2025-09-26T13:50:31.918434Z",
     "iopub.status.idle": "2025-09-26T13:50:32.613214Z",
     "shell.execute_reply": "2025-09-26T13:50:32.612637Z",
     "shell.execute_reply.started": "2025-09-26T13:50:31.918659Z"
    }
   },
   "outputs": [
    {
     "name": "stdout",
     "output_type": "stream",
     "text": [
      "✅ Fixed JSON written to ./Some-Trees-Dataset-10/train/_annotations_fixed.coco.json\n",
      "✅ Fixed JSON written to ./Some-Trees-Dataset-10/valid/_annotations_fixed.coco.json\n",
      "✅ Fixed JSON written to ./Some-Trees-Dataset-10/test/_annotations_fixed.coco.json\n"
     ]
    }
   ],
   "source": [
    "import json\n",
    "\n",
    "def fix_coco_json(in_path, out_path):\n",
    "    with open(in_path, \"r\") as f:\n",
    "        data = json.load(f)\n",
    "\n",
    "    # keep only \"tree\" category\n",
    "    new_categories = [{\"id\": 0, \"name\": \"tree\", \"supercategory\": \"none\"}]\n",
    "\n",
    "    # build mapping old_id -> new_id\n",
    "    tree_ids = [c[\"id\"] for c in data[\"categories\"] if c[\"name\"] == \"tree\"]\n",
    "    if not tree_ids:\n",
    "        raise ValueError(\"No 'tree' category found in categories.\")\n",
    "    tree_old_id = tree_ids[0]\n",
    "    id_map = {tree_old_id: 0}\n",
    "\n",
    "    # filter annotations to only keep \"tree\"\n",
    "    new_annotations = []\n",
    "    for ann in data[\"annotations\"]:\n",
    "        if ann[\"category_id\"] == tree_old_id:\n",
    "            ann[\"category_id\"] = 0  # remap to new id\n",
    "            new_annotations.append(ann)\n",
    "\n",
    "    # keep images as is\n",
    "    new_data = {\n",
    "        \"images\": data[\"images\"],\n",
    "        \"annotations\": new_annotations,\n",
    "        \"categories\": new_categories\n",
    "    }\n",
    "\n",
    "    with open(out_path, \"w\") as f:\n",
    "        json.dump(new_data, f, indent=2)\n",
    "\n",
    "    print(f\"✅ Fixed JSON written to {out_path}\")\n",
    "\n",
    "# Example usage:\n",
    "fix_coco_json(\n",
    "    \"./Some-Trees-Dataset-10/train/_annotations.coco.json\",\n",
    "    \"./Some-Trees-Dataset-10/train/_annotations_fixed.coco.json\"\n",
    ")\n",
    "\n",
    "fix_coco_json(\n",
    "    \"./Some-Trees-Dataset-10/valid/_annotations.coco.json\",\n",
    "    \"./Some-Trees-Dataset-10/valid/_annotations_fixed.coco.json\"\n",
    ")\n",
    "\n",
    "fix_coco_json(\n",
    "    \"./Some-Trees-Dataset-10/test/_annotations.coco.json\",\n",
    "    \"./Some-Trees-Dataset-10/test/_annotations_fixed.coco.json\"\n",
    ")"
   ]
  },
  {
   "cell_type": "code",
   "execution_count": null,
   "id": "4b8df9f2-9f29-4a1c-adda-af06e66abe82",
   "metadata": {},
   "outputs": [],
   "source": []
  }
 ],
 "metadata": {
  "kernelspec": {
   "display_name": "Python 3 (ipykernel)",
   "language": "python",
   "name": "python3"
  },
  "language_info": {
   "codemirror_mode": {
    "name": "ipython",
    "version": 3
   },
   "file_extension": ".py",
   "mimetype": "text/x-python",
   "name": "python",
   "nbconvert_exporter": "python",
   "pygments_lexer": "ipython3",
   "version": "3.12.9"
  }
 },
 "nbformat": 4,
 "nbformat_minor": 5
}
